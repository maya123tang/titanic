{
 "cells": [
  {
   "cell_type": "code",
   "execution_count": 1,
   "id": "67a655a5",
   "metadata": {},
   "outputs": [
    {
     "name": "stdout",
     "output_type": "stream",
     "text": [
      "     PassengerId  Survived  Pclass  \\\n",
      "0              1         0       3   \n",
      "1              2         1       1   \n",
      "2              3         1       3   \n",
      "3              4         1       1   \n",
      "4              5         0       3   \n",
      "..           ...       ...     ...   \n",
      "886          887         0       2   \n",
      "887          888         1       1   \n",
      "888          889         0       3   \n",
      "889          890         1       1   \n",
      "890          891         0       3   \n",
      "\n",
      "                                                  Name     Sex   Age  SibSp  \\\n",
      "0                              Braund, Mr. Owen Harris    male  22.0      1   \n",
      "1    Cumings, Mrs. John Bradley (Florence Briggs Th...  female  38.0      1   \n",
      "2                               Heikkinen, Miss. Laina  female  26.0      0   \n",
      "3         Futrelle, Mrs. Jacques Heath (Lily May Peel)  female  35.0      1   \n",
      "4                             Allen, Mr. William Henry    male  35.0      0   \n",
      "..                                                 ...     ...   ...    ...   \n",
      "886                              Montvila, Rev. Juozas    male  27.0      0   \n",
      "887                       Graham, Miss. Margaret Edith  female  19.0      0   \n",
      "888           Johnston, Miss. Catherine Helen \"Carrie\"  female   NaN      1   \n",
      "889                              Behr, Mr. Karl Howell    male  26.0      0   \n",
      "890                                Dooley, Mr. Patrick    male  32.0      0   \n",
      "\n",
      "     Parch            Ticket     Fare Cabin Embarked  \n",
      "0        0         A/5 21171   7.2500   NaN        S  \n",
      "1        0          PC 17599  71.2833   C85        C  \n",
      "2        0  STON/O2. 3101282   7.9250   NaN        S  \n",
      "3        0            113803  53.1000  C123        S  \n",
      "4        0            373450   8.0500   NaN        S  \n",
      "..     ...               ...      ...   ...      ...  \n",
      "886      0            211536  13.0000   NaN        S  \n",
      "887      0            112053  30.0000   B42        S  \n",
      "888      2        W./C. 6607  23.4500   NaN        S  \n",
      "889      0            111369  30.0000  C148        C  \n",
      "890      0            370376   7.7500   NaN        Q  \n",
      "\n",
      "[891 rows x 12 columns]\n"
     ]
    }
   ],
   "source": [
    "# load in data from the csv\n",
    "import pandas as pd\n",
    "\n",
    "train_set = pd.read_csv('train.csv')\n",
    "\n",
    "print(train_set) "
   ]
  },
  {
   "cell_type": "code",
   "execution_count": 19,
   "id": "83d2a044",
   "metadata": {},
   "outputs": [
    {
     "name": "stdout",
     "output_type": "stream",
     "text": [
      "0      22.0\n",
      "1      38.0\n",
      "2      26.0\n",
      "3      35.0\n",
      "4      35.0\n",
      "       ... \n",
      "886    27.0\n",
      "887    19.0\n",
      "888     NaN\n",
      "889    26.0\n",
      "890    32.0\n",
      "Name: Age, Length: 891, dtype: float64\n",
      "0        male\n",
      "1      female\n",
      "2      female\n",
      "3      female\n",
      "4        male\n",
      "        ...  \n",
      "886      male\n",
      "887    female\n",
      "888    female\n",
      "889      male\n",
      "890      male\n",
      "Name: Sex, Length: 891, dtype: object\n"
     ]
    },
    {
     "data": {
      "text/plain": [
       "male      577\n",
       "female    314\n",
       "Name: Sex, dtype: int64"
      ]
     },
     "execution_count": 19,
     "metadata": {},
     "output_type": "execute_result"
    },
    {
     "data": {
      "image/png": "[encoded data removed]",
      "text/plain": [
       "<Figure size 432x288 with 1 Axes>"
      ]
     },
     "metadata": {
      "needs_background": "light"
     },
     "output_type": "display_data"
    },
    {
     "data": {
      "image/png": "[encoded data removed]",
      "text/plain": [
       "<Figure size 432x288 with 1 Axes>"
      ]
     },
     "metadata": {
      "needs_background": "light"
     },
     "output_type": "display_data"
    },
    {
     "data": {
      "image/png": "[encoded data removed]",
      "text/plain": [
       "<Figure size 432x288 with 1 Axes>"
      ]
     },
     "metadata": {
      "needs_background": "light"
     },
     "output_type": "display_data"
    },
    {
     "data": {
      "image/png": "[encoded data removed]",
      "text/plain": [
       "<Figure size 432x288 with 1 Axes>"
      ]
     },
     "metadata": {},
     "output_type": "display_data"
    }
   ],
   "source": [
    "#explore the data\n",
    "#are these missing values? where?\n",
    "#make graphs showing % of male vs female\n",
    "#make graph showing age\n",
    "#make graph showing fare\n",
    "\n",
    "\n",
    "train_set.plot(y='Age', kind = 'hist')\n",
    "train_set.plot(y='Survived', kind = 'hist')\n",
    "train_set.plot(y='Fare', kind = 'hist', bins=20)\n",
    "\n",
    "train_set.groupby(['Sex']).sum().plot(kind='pie', y='Survived')\n",
    "\n",
    "\n",
    "print(train_set.Age)\n",
    "print(train_set.Sex)\n",
    "train_set.Sex.value_counts()"
   ]
  },
  {
   "cell_type": "markdown",
   "id": "c3ff88ea",
   "metadata": {},
   "source": [
    "survived, name, sex, age, ticket, faire, cabin, pclass, sibsp, parch, embarked\n",
    "missing values on age"
   ]
  },
  {
   "cell_type": "code",
   "execution_count": null,
   "id": "c6cbaf16",
   "metadata": {},
   "outputs": [],
   "source": [
    "#clean the data (remove/replace missing values)"
   ]
  },
  {
   "cell_type": "code",
   "execution_count": null,
   "id": "6a9293d9",
   "metadata": {},
   "outputs": [],
   "source": [
    "#Format the data so that we can send it it in to the model\n",
    "#maybe put it in a dataframe?"
   ]
  },
  {
   "cell_type": "code",
   "execution_count": null,
   "id": "8ed267a1",
   "metadata": {},
   "outputs": [],
   "source": [
    "#seperate the data into train and validation set \n",
    "#(test set is already set aside)"
   ]
  },
  {
   "cell_type": "code",
   "execution_count": null,
   "id": "2d800768",
   "metadata": {},
   "outputs": [],
   "source": [
    "#create the model"
   ]
  },
  {
   "cell_type": "code",
   "execution_count": null,
   "id": "dee2d9ba",
   "metadata": {},
   "outputs": [],
   "source": [
    "#train the model by sending it the trsining data "
   ]
  },
  {
   "cell_type": "code",
   "execution_count": null,
   "id": "bba145af",
   "metadata": {},
   "outputs": [],
   "source": [
    "#test the model on the validation set- find the accuracy"
   ]
  },
  {
   "cell_type": "code",
   "execution_count": null,
   "id": "421d373d",
   "metadata": {},
   "outputs": [],
   "source": [
    "#make a .csv file with our answers for the test data\n",
    "#we will send it in to the Kaggle competition.\n",
    "#will be scored by the Kaggle website\n",
    "#For example, a score of 0.7 in this competition indicates \n",
    "#you predicted Titanic survival correctly for 70% of people."
   ]
  },
  {
   "cell_type": "code",
   "execution_count": null,
   "id": "fdb8405e",
   "metadata": {},
   "outputs": [],
   "source": []
  },
  {
   "cell_type": "code",
   "execution_count": null,
   "id": "8dffa2d0",
   "metadata": {},
   "outputs": [],
   "source": []
  }
 ],
 "metadata": {
  "kernelspec": {
   "display_name": "Python (scikitlearn_env)",
   "language": "python",
   "name": "scikitlearn_env"
  },
  "language_info": {
   "codemirror_mode": {
    "name": "ipython",
    "version": 3
   },
   "file_extension": ".py",
   "mimetype": "text/x-python",
   "name": "python",
   "nbconvert_exporter": "python",
   "pygments_lexer": "ipython3",
   "version": "3.7.11"
  }
 },
 "nbformat": 4,
 "nbformat_minor": 5
}
