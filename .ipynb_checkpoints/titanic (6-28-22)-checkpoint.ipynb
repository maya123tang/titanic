{
 "cells": [
  {
   "cell_type": "code",
   "execution_count": null,
   "id": "67a655a5",
   "metadata": {},
   "outputs": [],
   "source": [
    "# load in data from the csv"
   ]
  },
  {
   "cell_type": "code",
   "execution_count": null,
   "id": "9f6f8791",
   "metadata": {},
   "outputs": [],
   "source": [
    "#explore the data\n",
    "#are these missing values? where?\n",
    "#make graphs showing % of male vs female\n",
    "#make graph showing age\n",
    "#make graph showing fare\n"
   ]
  },
  {
   "cell_type": "code",
   "execution_count": null,
   "id": "4d31d9f5",
   "metadata": {},
   "outputs": [],
   "source": [
    "#clean the data (remove/replace missing values)"
   ]
  },
  {
   "cell_type": "code",
   "execution_count": null,
   "id": "bc92f416",
   "metadata": {},
   "outputs": [],
   "source": [
    "#Format the data so that we can send it it in to the model\n",
    "#maybe put it in a dataframe?"
   ]
  },
  {
   "cell_type": "code",
   "execution_count": null,
   "id": "b3852286",
   "metadata": {},
   "outputs": [],
   "source": [
    "#seperate the data into train and validation set \n",
    "#(test set is already set aside)"
   ]
  },
  {
   "cell_type": "code",
   "execution_count": null,
   "id": "65de27bd",
   "metadata": {},
   "outputs": [],
   "source": [
    "#create the model"
   ]
  },
  {
   "cell_type": "code",
   "execution_count": null,
   "id": "81d84eb9",
   "metadata": {},
   "outputs": [],
   "source": [
    "#train the model by sending it the trsining data "
   ]
  },
  {
   "cell_type": "code",
   "execution_count": null,
   "id": "075feef1",
   "metadata": {},
   "outputs": [],
   "source": [
    "#test the model on the validation set- find the accuracy"
   ]
  },
  {
   "cell_type": "code",
   "execution_count": null,
   "id": "e3b3a624",
   "metadata": {},
   "outputs": [],
   "source": [
    "#make a .csv file with our answers for the test data\n",
    "#we will send it in to the Kaggle competition.\n",
    "#will be scored by the Kaggle website\n",
    "#For example, a score of 0.7 in this competition indicates \n",
    "#you predicted Titanic survival correctly for 70% of people."
   ]
  },
  {
   "cell_type": "code",
   "execution_count": null,
   "id": "bd3a3ed8",
   "metadata": {},
   "outputs": [],
   "source": []
  },
  {
   "cell_type": "code",
   "execution_count": null,
   "id": "3c18ab5a",
   "metadata": {},
   "outputs": [],
   "source": []
  }
 ],
 "metadata": {
  "kernelspec": {
   "display_name": "Python (scikitlearn_env)",
   "language": "python",
   "name": "scikitlearn_env"
  },
  "language_info": {
   "codemirror_mode": {
    "name": "ipython",
    "version": 3
   },
   "file_extension": ".py",
   "mimetype": "text/x-python",
   "name": "python",
   "nbconvert_exporter": "python",
   "pygments_lexer": "ipython3",
   "version": "3.7.11"
  }
 },
 "nbformat": 4,
 "nbformat_minor": 5
}
