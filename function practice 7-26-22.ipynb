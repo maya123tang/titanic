{
 "cells": [
  {
   "cell_type": "code",
   "execution_count": 1,
   "id": "ed181969",
   "metadata": {},
   "outputs": [],
   "source": [
    "def birthday1(name, age):\n",
    "    print(\"Happy birthday,\",name,\"!\",\"i hear you're\",age,\"today.\\n\")"
   ]
  },
  {
   "cell_type": "code",
   "execution_count": 3,
   "id": "e643eda1",
   "metadata": {},
   "outputs": [
    {
     "name": "stdout",
     "output_type": "stream",
     "text": [
      "Happy birthday, jackson ! i hear you're 1 today.\n",
      "\n"
     ]
    }
   ],
   "source": [
    "birthday1('jackson',1)"
   ]
  },
  {
   "cell_type": "code",
   "execution_count": null,
   "id": "7944f05f",
   "metadata": {},
   "outputs": [],
   "source": []
  }
 ],
 "metadata": {
  "kernelspec": {
   "display_name": "Python (scikitlearn_env)",
   "language": "python",
   "name": "scikitlearn_env"
  },
  "language_info": {
   "codemirror_mode": {
    "name": "ipython",
    "version": 3
   },
   "file_extension": ".py",
   "mimetype": "text/x-python",
   "name": "python",
   "nbconvert_exporter": "python",
   "pygments_lexer": "ipython3",
   "version": "3.7.11"
  }
 },
 "nbformat": 4,
 "nbformat_minor": 5
}
